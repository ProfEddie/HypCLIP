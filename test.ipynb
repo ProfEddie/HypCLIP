{
 "cells": [
  {
   "cell_type": "code",
   "execution_count": 29,
   "metadata": {},
   "outputs": [
    {
     "name": "stdout",
     "output_type": "stream",
     "text": [
      "text_embed torch.Size([100, 257, 1])\n",
      "vision_embed torch.Size([100, 1, 12, 257])\n"
     ]
    }
   ],
   "source": [
    "from hyptorch.geoopt import PoincareBall   \n",
    "from hyptorch.lorentz.manifold import CustomLorentz \n",
    "from model.modules.utils import ManifoldMapper\n",
    "import torch\n",
    "\n",
    "\n",
    "poincare = PoincareBall(c=1.0, learnable=True)\n",
    "lorentz = CustomLorentz(k=1.0, learnable=True)\n",
    "\n",
    "lmapper = ManifoldMapper(lorentz, clip_r=1.25, curv=lorentz.k)\n",
    "pmapper = ManifoldMapper(lorentz, clip_r=1.25, curv=poincare.c)\n",
    "vis_embed = torch.rand(100, 12,256)\n",
    "text_embed = torch.rand(100,  256)\n",
    "\n",
    "\n",
    "vis_embed = lmapper(vis_embed)\n",
    "text_embed = lmapper(text_embed)\n",
    "lorentz.assert_check_point_on_manifold(vis_embed)\n",
    "# text_embed = text_embed.unsqueeze(1).unsqueeze(1)\n",
    "text_embed = text_embed.unsqueeze(-1) \n",
    "print('text_embed', text_embed.shape)\n",
    "# vis_embed = vis_embed.permute(0, 2, 1)\n",
    "vis_embed = vis_embed.unsqueeze(1) \n",
    "print('vision_embed', vis_embed.shape)\n",
    "\n",
    "# dist = lorentz.dist_batch(text_embed, vis_embed)\n",
    "simi2q = lorentz.dist_batch(vis_embed, text_embed)\n",
    "\n",
    "\n",
    "\n"
   ]
  },
  {
   "cell_type": "code",
   "execution_count": null,
   "metadata": {},
   "outputs": [],
   "source": [
    "import torch.nn.functional as F\n",
    "def itc_loss(self, image_embeds , text_embeds):\n",
    "\n",
    "    sim_q2t = torch.matmul(\n",
    "        image_embeds.unsqueeze(1), text_embeds.unsqueeze(-1)\n",
    "    ).squeeze()\n",
    "    # [batch_size, batch_size*num_gpu, num_query_tokens]\n",
    "\n",
    "    # image-text similarity: aggregate across all query tokens\n",
    "    sim_i2t, _ = sim_q2t.max(-1)\n",
    "    sim_i2t = sim_i2t / self.temp\n",
    "\n",
    "    # text-query similarity: [batch_size, batch_size, num_query_tokens]\n",
    "    sim_t2q = torch.matmul(\n",
    "        text_embeds.unsqueeze(1).unsqueeze(1), image_embeds.permute(0, 2, 1)\n",
    "    ).squeeze()\n",
    "\n",
    "    # text-image similarity: aggregate across all query tokens\n",
    "    sim_t2i, _ = sim_t2q.max(-1)\n",
    "    sim_t2i = sim_t2i / self.temp  # [batch_size, batch_size*num_gpu]\n",
    "\n",
    "    bs = image_embeds.size(0)\n",
    "    targets = torch.arange(bs).to(self.device)\n",
    "\n",
    "    itc_loss= (\n",
    "        F.cross_entropy(sim_i2t, targets, label_smoothing=0.1)\n",
    "        + F.cross_entropy(sim_t2i, targets, label_smoothing=0.1)\n",
    "    ) / 2\n",
    "    stats = {\n",
    "        \"logits/weight_t2i\": 1.0 - self.weight_i2t,\n",
    "        \"logits/itc_loss\": itc_loss.item(),\n",
    "        \"logits/min\": sim_i2t.min().item(),\n",
    "        \"logits/mean\": sim_i2t.mean().item(),\n",
    "        \"logits/max\": sim_i2t.max().item(),\n",
    "        \"logits/acc\": (sim_i2t.argmax(-1) == targets).float().mean().item(),\n",
    "        \"logits/curvature\": self.manifold.k.item(),\n",
    "    }\n",
    "    return itc_loss, stats, sim_i2t\n",
    "\n"
   ]
  }
 ],
 "metadata": {
  "kernelspec": {
   "display_name": "hada-v2",
   "language": "python",
   "name": "python3"
  },
  "language_info": {
   "codemirror_mode": {
    "name": "ipython",
    "version": 3
   },
   "file_extension": ".py",
   "mimetype": "text/x-python",
   "name": "python",
   "nbconvert_exporter": "python",
   "pygments_lexer": "ipython3",
   "version": "3.11.4"
  }
 },
 "nbformat": 4,
 "nbformat_minor": 2
}
