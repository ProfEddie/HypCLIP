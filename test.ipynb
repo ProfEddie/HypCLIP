{
 "cells": [
  {
   "cell_type": "code",
   "execution_count": 5,
   "metadata": {},
   "outputs": [],
   "source": [
    "from model.modules.fuseModel import FuseEncoder \n",
    "from model.modules.fuseModel import LavisEncoder, CLIPEncoder \n",
    "from hyptorch.lorentz.manifold import CustomLorentz\n",
    "from config import parser\n",
    "config = parser.parse_args()\n",
    "\n",
    "manifold = CustomLorentz()\n",
    "\n",
    "\n",
    "model = FuseEncoder(\n",
    "    config, \n",
    "    d_visions=[100, 100], \n",
    "    d_texts=[100, 100], \n",
    "    ft_out=256, \n",
    "    vision_bodies=[], \n",
    "    text_bodies=[],\n",
    "    vision_head=None,\n",
    "    text_head=None,\n",
    "    mapper=None\n",
    "    manifold=None, \n",
    ")"
   ]
  },
  {
   "cell_type": "code",
   "execution_count": null,
   "metadata": {},
   "outputs": [],
   "source": []
  },
  {
   "cell_type": "code",
   "execution_count": 6,
   "metadata": {},
   "outputs": [
    {
     "name": "stdout",
     "output_type": "stream",
     "text": [
      "torch.Size([40, 12, 32])\n",
      "torch.Size([40, 40, 12, 32])\n"
     ]
    }
   ],
   "source": []
  },
  {
   "cell_type": "code",
   "execution_count": null,
   "metadata": {},
   "outputs": [],
   "source": []
  },
  {
   "cell_type": "code",
   "execution_count": null,
   "metadata": {},
   "outputs": [],
   "source": []
  },
  {
   "cell_type": "code",
   "execution_count": 35,
   "metadata": {},
   "outputs": [],
   "source": [
    "sim_t2q = torch.matmul(\n",
    "    a, b.permute(0, 2, 1)\n",
    ").squeeze()"
   ]
  },
  {
   "cell_type": "code",
   "execution_count": 36,
   "metadata": {},
   "outputs": [
    {
     "data": {
      "text/plain": [
       "torch.Size([40, 40])"
      ]
     },
     "execution_count": 36,
     "metadata": {},
     "output_type": "execute_result"
    }
   ],
   "source": [
    "sim_t2q.max(-1).values.shape"
   ]
  },
  {
   "cell_type": "code",
   "execution_count": null,
   "metadata": {},
   "outputs": [],
   "source": []
  },
  {
   "cell_type": "code",
   "execution_count": null,
   "metadata": {},
   "outputs": [],
   "source": []
  }
 ],
 "metadata": {
  "kernelspec": {
   "display_name": "hada-v2",
   "language": "python",
   "name": "python3"
  },
  "language_info": {
   "codemirror_mode": {
    "name": "ipython",
    "version": 3
   },
   "file_extension": ".py",
   "mimetype": "text/x-python",
   "name": "python",
   "nbconvert_exporter": "python",
   "pygments_lexer": "ipython3",
   "version": "3.11.4"
  }
 },
 "nbformat": 4,
 "nbformat_minor": 2
}
