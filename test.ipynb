{
 "cells": [
  {
   "cell_type": "code",
   "execution_count": 18,
   "metadata": {},
   "outputs": [
    {
     "name": "stdout",
     "output_type": "stream",
     "text": [
      "torch.Size([256, 12, 100])\n",
      "text_embed torch.Size([100, 257])\n",
      "vision_embed torch.Size([100, 12, 257])\n",
      "tensor([[1.1687, 1.1688, 1.1689,  ..., 1.1458, 1.1415, 1.1293],\n",
      "        [1.1008, 1.1727, 1.1338,  ..., 1.1007, 1.1767, 1.1207],\n",
      "        [1.1291, 1.1587, 1.1833,  ..., 1.1119, 1.1322, 1.1551],\n",
      "        ...,\n",
      "        [1.1232, 1.1703, 1.1322,  ..., 1.1180, 1.1537, 1.1263],\n",
      "        [1.1470, 1.1715, 1.1758,  ..., 1.1159, 1.1572, 1.1315],\n",
      "        [1.1334, 1.1306, 1.1603,  ..., 1.1238, 1.1147, 1.1224]],\n",
      "       grad_fn=<MaxBackward0>)\n",
      "tensor([[1.1687, 1.1008, 1.1291,  ..., 1.1232, 1.1470, 1.1334],\n",
      "        [1.1688, 1.1727, 1.1587,  ..., 1.1703, 1.1715, 1.1306],\n",
      "        [1.1689, 1.1338, 1.1833,  ..., 1.1322, 1.1758, 1.1603],\n",
      "        ...,\n",
      "        [1.1458, 1.1007, 1.1119,  ..., 1.1180, 1.1159, 1.1238],\n",
      "        [1.1415, 1.1767, 1.1322,  ..., 1.1537, 1.1572, 1.1147],\n",
      "        [1.1293, 1.1207, 1.1551,  ..., 1.1263, 1.1315, 1.1224]],\n",
      "       grad_fn=<MaxBackward0>)\n"
     ]
    }
   ],
   "source": [
    "from hyptorch.geoopt import PoincareBall   \n",
    "from hyptorch.lorentz.manifold import CustomLorentz \n",
    "from model.modules.utils import ManifoldMapper\n",
    "import torch\n",
    "\n",
    "\n",
    "poincare = PoincareBall(c=1.0, learnable=True)\n",
    "lorentz = CustomLorentz(k=1.0, learnable=True)\n",
    "\n",
    "lmapper = ManifoldMapper(lorentz, clip_r=1.25, curv=lorentz.k)\n",
    "pmapper = ManifoldMapper(lorentz, clip_r=1.25, curv=poincare.c)\n",
    "vis_embed = torch.rand(100, 12, 256)\n",
    "text_embed = torch.rand(100, 256)\n",
    "print(vis_embed.T.shape)\n",
    "\n",
    "\n",
    "vis_embed = lmapper(vis_embed)\n",
    "text_embed = lmapper(text_embed)\n",
    "lorentz.assert_check_point_on_manifold(vis_embed)\n",
    "print('text_embed', text_embed.shape)\n",
    "print('vision_embed', vis_embed.shape)\n",
    "\n",
    "sim_q2t,_ = lorentz.dist_batch(\n",
    "    vis_embed.unsqueeze(1), \n",
    "    text_embed.unsqueeze(-1),\n",
    ").squeeze().max(1)\n",
    "\n",
    "\n",
    "print(sim_q2t)\n",
    "sim_t2q,_ = lorentz.dist_batch(\n",
    "    text_embed.unsqueeze(1).unsqueeze(1),\n",
    "    vis_embed.permute(0, 2, 1),\n",
    ").squeeze().max(1)\n",
    "print(sim_t2q)\n"
   ]
  },
  {
   "cell_type": "code",
   "execution_count": null,
   "metadata": {},
   "outputs": [],
   "source": []
  },
  {
   "cell_type": "code",
   "execution_count": 35,
   "metadata": {},
   "outputs": [],
   "source": [
    "import torch.nn.functional as F\n",
    "def itc_loss(self, image_embeds, text_embeds, image_worlds, text_worlds, sim_i2t_targets, sim_t2i_targets):\n",
    "    sim_i2t = self.dist_func(image_embeds, text_worlds) \n",
    "    sim_t2i = self.dist_func(text_embeds, image_worlds)\n",
    "\n",
    "    loss_i2t = -torch.sum(\n",
    "        F.log_softmax(sim_i2t / self.logit_scale, dim=1) * sim_i2t_targets, dim=-1\n",
    "    ).mean()\n",
    "    loss_t2i = -torch.sum(\n",
    "        F.log_softmax(sim_t2i / self.logit_scale, dim=1) * sim_t2i_targets, dim=-1\n",
    "    ).mean()      \n",
    "\n",
    "    loss_itc = self.config.weight_i2t * loss_i2t + (1-self.config.weight_i2t) * loss_t2i\n",
    "    return loss_itc\n",
    "\n"
   ]
  },
  {
   "cell_type": "code",
   "execution_count": null,
   "metadata": {},
   "outputs": [],
   "source": []
  },
  {
   "cell_type": "code",
   "execution_count": null,
   "metadata": {},
   "outputs": [],
   "source": []
  }
 ],
 "metadata": {
  "kernelspec": {
   "display_name": "hada-v2",
   "language": "python",
   "name": "python3"
  },
  "language_info": {
   "codemirror_mode": {
    "name": "ipython",
    "version": 3
   },
   "file_extension": ".py",
   "mimetype": "text/x-python",
   "name": "python",
   "nbconvert_exporter": "python",
   "pygments_lexer": "ipython3",
   "version": "3.11.4"
  }
 },
 "nbformat": 4,
 "nbformat_minor": 2
}
